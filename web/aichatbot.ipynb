{
 "cells": [
  {
   "cell_type": "code",
   "execution_count": null,
   "metadata": {},
   "outputs": [],
   "source": [
    "'''\n",
    "\n",
    "分成三大邏輯\n",
    "\n",
    "接收消息或事件與驗證\n",
    "判斷消息類型或事件類型\n",
    "處理消息或事件\n",
    "\n",
    "\n",
    "源碼依序\n",
    "    \n",
    "    準備Flask\n",
    "    \n",
    "    載入安全設定檔\n",
    "    \n",
    "    具體事件處理辦法\n",
    "        關注事件處理辦法\n",
    "        \n",
    "    具體消息處理辦法\n",
    "        文字消息處理辦法\n",
    "        圖片消息處理辦法\n",
    "    \n",
    "    事件轉發至具體處理事件辦法\n",
    "        event -> 判斷為subscribe事件 -> 交由subscribe處理辦法完成\n",
    "    \n",
    "    消息轉發至具體處理消息辦法\n",
    "        msg -> 判斷為text消息 -> 交由text處理辦法完成\n",
    "        \n",
    "新增實體消息處理辦法時，需一併更新 generalMsgProcess\n",
    "新增實體事件處理辦法時，需一併更新 generalEventProcess\n",
    "'''"
   ]
  },
  {
   "cell_type": "code",
   "execution_count": null,
   "metadata": {},
   "outputs": [],
   "source": [
    "'''\n",
    "準備Flask Server\n",
    "'''\n",
    "\n",
    "from flask import Flask\n",
    "\n",
    "app = Flask(__name__)\n"
   ]
  },
  {
   "cell_type": "code",
   "execution_count": null,
   "metadata": {},
   "outputs": [],
   "source": [
    "'''\n",
    "\n",
    "載入Wechat 設定檔\n",
    "\n",
    "檔名 wechat_secret\n",
    "\n",
    "'''\n",
    "\n",
    "import json\n",
    "\n",
    "wechatSecret = json.load(open(\"wechat_secret\",'r'))\n",
    "token = wechatSecret.get(\"channel_access_token\")\n"
   ]
  },
  {
   "cell_type": "code",
   "execution_count": null,
   "metadata": {},
   "outputs": [],
   "source": [
    "'''\n",
    "Wechat 關注消息\n",
    "\n",
    "    取得個資\n",
    "    生成自定義菜單\n",
    "    綁定自定義菜單\n",
    "    歡迎消息\n",
    "    \n",
    "'''\n",
    "\n",
    "import wechatpy.events\n",
    "\n",
    "def subscribeMsgProcess(msg):\n",
    "    return null"
   ]
  },
  {
   "cell_type": "code",
   "execution_count": null,
   "metadata": {},
   "outputs": [],
   "source": [
    "'''\n",
    "\n",
    "Wechat 文字消息\n",
    "    \n",
    "    文字處理\n",
    "    Wechat智能接口\n",
    "    分析方法\n",
    "\n",
    "'''\n",
    "\n",
    "from wechatpy.replies import TextReply\n",
    "def textMsgProcess(msg):\n",
    "    reply = TextReply(content='text reply', message=msg)\n",
    "    reply.content = 'text reply'\n",
    "    # 转换成 XML\n",
    "    xml = reply.render()\n",
    "    return xml"
   ]
  },
  {
   "cell_type": "code",
   "execution_count": null,
   "metadata": {},
   "outputs": [],
   "source": [
    "'''\n",
    "\n",
    "Wechat 圖片消息\n",
    "\n",
    "    下載圖片\n",
    "\n",
    "'''\n",
    "from wechatpy.replies import ImageReply \n",
    "def imageMsgProcess(msg):\n",
    "    reply = TextReply(content='text reply', message=msg)\n",
    "    reply.content = 'text reply'\n",
    "    # 转换成 XML\n",
    "    xml = reply.render()\n",
    "    return xml"
   ]
  },
  {
   "cell_type": "code",
   "execution_count": null,
   "metadata": {},
   "outputs": [],
   "source": [
    "'''\n",
    "消息處理邏輯分配\n",
    "'''\n",
    "\n",
    "import wechatpy.replies\n",
    "\n",
    "def generalMsgProcess(msg):\n",
    "    '''\n",
    "        若為xx消息，則丟到該消息之處理辦法\n",
    "    '''       \n",
    "    if msg.type == 'text':\n",
    "        return(textMsgProcess(msg))\n",
    "    elif msg.type == 'image':\n",
    "        return(imageMsgProcess(msg))\n",
    "    else:\n",
    "        reply = create_reply('本公眾號不支援此類型消息處理', message=msg)\n",
    "        return(reply.render())"
   ]
  },
  {
   "cell_type": "code",
   "execution_count": null,
   "metadata": {},
   "outputs": [],
   "source": [
    "'''\n",
    "事件處理邏輯分配\n",
    "'''\n",
    "import wechatpy.replies\n",
    "\n",
    "def generalEventProcess(msg):\n",
    "    return None"
   ]
  },
  {
   "cell_type": "code",
   "execution_count": null,
   "metadata": {},
   "outputs": [],
   "source": [
    "'''\n",
    "Wechat 接收消息\n",
    "\n",
    "負責校驗消息與轉發。\n",
    "\n",
    "'''\n",
    "from wechatpy import parse_message\n",
    "from flask import request\n",
    "\n",
    "@app.route(\"/wechat\",methods=['POST'])\n",
    "def receiveMessage():   \n",
    "\n",
    "    try:\n",
    "        \n",
    "        signature = request.args.get('signature') \n",
    "        timestamp = request.args.get('timestamp') \n",
    "        nonce = request.args.get('nonce')\n",
    "        echostr = request.args.get('echostr')\n",
    "        \n",
    "        check_signature(token, signature, timestamp, nonce)\n",
    "        msg = parse_message(request.data)\n",
    "        \n",
    "        if msg.type == 'event':\n",
    "            \n",
    "            return(generalEventProcess(msg))\n",
    "            \n",
    "        else:\n",
    "            return(generalMsgProcess(msg))\n",
    "\n",
    "    except InvalidSignatureException:\n",
    "        # 处理异常情况或忽略\n",
    "        return('invalid')"
   ]
  },
  {
   "cell_type": "code",
   "execution_count": null,
   "metadata": {},
   "outputs": [],
   "source": [
    "'''\n",
    "Wechat 驗證Server\n",
    "\n",
    "'''\n",
    "from wechatpy.utils import check_signature\n",
    "from wechatpy.exceptions import InvalidSignatureException\n",
    "from flask import request\n",
    "\n",
    "@app.route(\"/wechat\",methods=['get'])\n",
    "def validServer():\n",
    "\n",
    "    try:\n",
    "        signature = request.args.get('signature') \n",
    "        timestamp = request.args.get('timestamp') \n",
    "        nonce = request.args.get('nonce')\n",
    "        echostr = request.args.get('echostr')\n",
    "        \n",
    "        check_signature(token, signature, timestamp, nonce)\n",
    "        \n",
    "        return(echostr)\n",
    "    except InvalidSignatureException:\n",
    "        # 处理异常情况或忽略\n",
    "        return('invalid')"
   ]
  },
  {
   "cell_type": "code",
   "execution_count": null,
   "metadata": {},
   "outputs": [],
   "source": [
    "'''\n",
    "執行Server\n",
    "'''\n",
    "app.run(host='0.0.0.0',port=5000)"
   ]
  },
  {
   "cell_type": "code",
   "execution_count": null,
   "metadata": {},
   "outputs": [],
   "source": [
    "'''\n",
    "\n",
    "相關資源\n",
    "\n",
    "access token的處理辦法\n",
    "http://docs.wechatpy.org/zh_CN/master/quickstart.html#accesstoken\n",
    "'''\n",
    "\n"
   ]
  }
 ],
 "metadata": {
  "kernelspec": {
   "display_name": "Python 3",
   "language": "python",
   "name": "python3"
  },
  "language_info": {
   "codemirror_mode": {
    "name": "ipython",
    "version": 3
   },
   "file_extension": ".py",
   "mimetype": "text/x-python",
   "name": "python",
   "nbconvert_exporter": "python",
   "pygments_lexer": "ipython3",
   "version": "3.6.5"
  }
 },
 "nbformat": 4,
 "nbformat_minor": 2
}
