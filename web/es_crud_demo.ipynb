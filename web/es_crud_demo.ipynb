{
 "cells": [
  {
   "cell_type": "code",
   "execution_count": 2,
   "metadata": {},
   "outputs": [
    {
     "name": "stdout",
     "output_type": "stream",
     "text": [
      "Requirement already satisfied: elasticsearch-dsl in /opt/conda/lib/python3.6/site-packages\n",
      "Requirement already satisfied: elasticsearch<7.0.0,>=6.0.0 in /opt/conda/lib/python3.6/site-packages (from elasticsearch-dsl)\n",
      "Requirement already satisfied: six in /opt/conda/lib/python3.6/site-packages (from elasticsearch-dsl)\n",
      "Requirement already satisfied: python-dateutil in /opt/conda/lib/python3.6/site-packages (from elasticsearch-dsl)\n",
      "Requirement already satisfied: ipaddress in /opt/conda/lib/python3.6/site-packages (from elasticsearch-dsl)\n",
      "Requirement already satisfied: urllib3>=1.21.1 in /opt/conda/lib/python3.6/site-packages (from elasticsearch<7.0.0,>=6.0.0->elasticsearch-dsl)\n",
      "\u001b[33mYou are using pip version 9.0.3, however version 10.0.1 is available.\n",
      "You should consider upgrading via the 'pip install --upgrade pip' command.\u001b[0m\n"
     ]
    }
   ],
   "source": [
    "# install sdk\n",
    "!pip install elasticsearch-dsl"
   ]
  },
  {
   "cell_type": "code",
   "execution_count": 3,
   "metadata": {},
   "outputs": [],
   "source": [
    "# 創建客戶端\n",
    "from elasticsearch import Elasticsearch\n",
    "es = Elasticsearch(['http://ai-chatbot-es.pri:9200/'])"
   ]
  },
  {
   "cell_type": "code",
   "execution_count": 4,
   "metadata": {},
   "outputs": [
    {
     "data": {
      "text/plain": [
       "{'acknowledged': True, 'shards_acknowledged': True, 'index': 'test-ai'}"
      ]
     },
     "execution_count": 4,
     "metadata": {},
     "output_type": "execute_result"
    }
   ],
   "source": [
    "# 創建index\n",
    "es.indices.create(\"test-ai\")"
   ]
  },
  {
   "cell_type": "code",
   "execution_count": 5,
   "metadata": {},
   "outputs": [],
   "source": [
    "# 定義Document長相\n",
    "from datetime import datetime\n",
    "from elasticsearch_dsl import Document, Date, Nested, Boolean, analyzer, InnerDoc, Completion, Keyword, Text\n",
    "\n",
    "\n",
    "class QnA(Document):\n",
    "    question = Text()\n",
    "    answer = Text()\n",
    "    keyword = Text(\n",
    "        analyzer='standard',\n",
    "        fields={'raw': Keyword()}\n",
    "    )\n",
    "    \n",
    "    class Index:\n",
    "        name = 'test-ai'\n",
    "        \n",
    "    def save(self, ** kwargs):\n",
    "        return super().save(** kwargs)"
   ]
  },
  {
   "cell_type": "code",
   "execution_count": 6,
   "metadata": {},
   "outputs": [],
   "source": [
    "# 創建相應index\n",
    "QnA.init(using=es)"
   ]
  },
  {
   "cell_type": "code",
   "execution_count": 8,
   "metadata": {},
   "outputs": [],
   "source": [
    "# 創建Document\n",
    "qaRecord = QnA(question=\"今天是好天氣嗎\",answer=\"不是\",keyword=[\"今天\",\"天氣\"])"
   ]
  },
  {
   "cell_type": "code",
   "execution_count": 9,
   "metadata": {},
   "outputs": [],
   "source": [
    "# 給予資料id\n",
    "qaRecord.meta.id=1234"
   ]
  },
  {
   "cell_type": "code",
   "execution_count": null,
   "metadata": {},
   "outputs": [],
   "source": [
    "# 儲存資料\n",
    "qaRecord.save(using=es)"
   ]
  },
  {
   "cell_type": "code",
   "execution_count": 19,
   "metadata": {},
   "outputs": [
    {
     "name": "stdout",
     "output_type": "stream",
     "text": [
      "今天是好天氣嗎\n",
      "['今天', '天氣']\n",
      "不是\n"
     ]
    }
   ],
   "source": [
    "# 取得單筆資料\n",
    "record = QnA.get(using=es, id='1234')\n",
    "print(record.question)\n",
    "print(record.keyword)\n",
    "print(record.answer)"
   ]
  },
  {
   "cell_type": "code",
   "execution_count": 27,
   "metadata": {},
   "outputs": [],
   "source": [
    "# 比對\n",
    "qaSearch = QnA.search(using=es)\n",
    "gg = qaSearch.filter('match',answer=\"不是\")\n",
    "result = gg.execute()\n",
    "print(result.to_dict())"
   ]
  },
  {
   "cell_type": "code",
   "execution_count": null,
   "metadata": {},
   "outputs": [],
   "source": []
  }
 ],
 "metadata": {
  "kernelspec": {
   "display_name": "Python 3",
   "language": "python",
   "name": "python3"
  },
  "language_info": {
   "codemirror_mode": {
    "name": "ipython",
    "version": 3
   },
   "file_extension": ".py",
   "mimetype": "text/x-python",
   "name": "python",
   "nbconvert_exporter": "python",
   "pygments_lexer": "ipython3",
   "version": "3.6.5"
  }
 },
 "nbformat": 4,
 "nbformat_minor": 2
}
